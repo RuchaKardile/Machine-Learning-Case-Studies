{
 "cells": [
  {
   "cell_type": "markdown",
   "id": "54b83b68",
   "metadata": {},
   "source": [
    "## Cancer Predictions"
   ]
  },
  {
   "cell_type": "code",
   "execution_count": 1,
   "id": "c051adfb",
   "metadata": {},
   "outputs": [],
   "source": [
    "#Import scikit-learn dataset library\n",
    "from sklearn import datasets"
   ]
  },
  {
   "cell_type": "markdown",
   "id": "41e7ce40",
   "metadata": {},
   "source": [
    "The dataset comprises 30 features (mean radius, mean texture, mean perimeter, mean area, mean smoothness, mean compactness, mean concavity, mean concave points, mean symmetry, mean fractal dimension, radius error, texture error, perimeter error, area error, smoothness error, compactness error, concavity error, concave points error, symmetry error, fractal dimension error, worst radius, worst texture, worst perimeter, worst area, worst smoothness, worst compactness, worst concavity, worst concave points, worst symmetry, and worst fractal dimension) and a target (type of cancer).\n",
    "\n",
    "This data has two types of cancer classes: malignant (harmful) and benign (not harmful). Here, you can build a model to classify the type of cancer. The dataset is available in the scikit-learn library or you can also download it from the UCI Machine Learning Library."
   ]
  },
  {
   "cell_type": "code",
   "execution_count": 2,
   "id": "74033096",
   "metadata": {},
   "outputs": [],
   "source": [
    "#load dataset\n",
    "cancer = datasets.load_breast_cancer()"
   ]
  },
  {
   "cell_type": "code",
   "execution_count": 3,
   "id": "073471af",
   "metadata": {},
   "outputs": [
    {
     "name": "stdout",
     "output_type": "stream",
     "text": [
      "Features:  ['mean radius' 'mean texture' 'mean perimeter' 'mean area'\n",
      " 'mean smoothness' 'mean compactness' 'mean concavity'\n",
      " 'mean concave points' 'mean symmetry' 'mean fractal dimension'\n",
      " 'radius error' 'texture error' 'perimeter error' 'area error'\n",
      " 'smoothness error' 'compactness error' 'concavity error'\n",
      " 'concave points error' 'symmetry error' 'fractal dimension error'\n",
      " 'worst radius' 'worst texture' 'worst perimeter' 'worst area'\n",
      " 'worst smoothness' 'worst compactness' 'worst concavity'\n",
      " 'worst concave points' 'worst symmetry' 'worst fractal dimension']\n",
      "Labels:  ['malignant' 'benign']\n"
     ]
    }
   ],
   "source": [
    "# print the names of the 13 features\n",
    "print(\"Features: \", cancer.feature_names)\n",
    "\n",
    "# print the label type of cancer('malignant' 'benign')\n",
    "print(\"Labels: \", cancer.target_names)"
   ]
  },
  {
   "cell_type": "code",
   "execution_count": 4,
   "id": "18d11d19",
   "metadata": {},
   "outputs": [],
   "source": [
    "import numpy as np"
   ]
  },
  {
   "cell_type": "code",
   "execution_count": 5,
   "id": "7ad3f5f6",
   "metadata": {},
   "outputs": [
    {
     "data": {
      "text/plain": [
       "(array([0, 1]), array([212, 357], dtype=int64))"
      ]
     },
     "execution_count": 5,
     "metadata": {},
     "output_type": "execute_result"
    }
   ],
   "source": [
    "np.unique(cancer.target,return_counts=True)"
   ]
  },
  {
   "cell_type": "code",
   "execution_count": null,
   "id": "53d70096",
   "metadata": {},
   "outputs": [],
   "source": [
    "# Import train_test_split function\n",
    "from sklearn.model_selection import train_test_split\n",
    "import numpy as np"
   ]
  },
  {
   "cell_type": "code",
   "execution_count": null,
   "id": "6bf230ce",
   "metadata": {},
   "outputs": [],
   "source": [
    "# Split dataset into training set and test set\n",
    "X_train, X_test, y_train, y_test = train_test_split(cancer.data, cancer.target, test_size=0.3,random_state=109) # 70% training and 30% test"
   ]
  },
  {
   "cell_type": "code",
   "execution_count": null,
   "id": "899ee1c4",
   "metadata": {},
   "outputs": [],
   "source": [
    "np.unique(y_test,return_counts=True)"
   ]
  },
  {
   "cell_type": "code",
   "execution_count": null,
   "id": "905d34d0",
   "metadata": {},
   "outputs": [],
   "source": [
    "#Import svm model\n",
    "from sklearn.svm import SVC"
   ]
  },
  {
   "cell_type": "code",
   "execution_count": null,
   "id": "df40f688",
   "metadata": {},
   "outputs": [],
   "source": [
    "#Create a svm Classifier\n",
    "clf = SVC(kernel='linear') # Linear Kernel"
   ]
  },
  {
   "cell_type": "code",
   "execution_count": null,
   "id": "27fe7a8e",
   "metadata": {},
   "outputs": [],
   "source": [
    "#Train the model using the training sets\n",
    "clf.fit(X_train, y_train)"
   ]
  },
  {
   "cell_type": "code",
   "execution_count": null,
   "id": "9a864d87",
   "metadata": {},
   "outputs": [],
   "source": [
    "#Predict the response for test dataset\n",
    "y_pred = clf.predict(X_test)"
   ]
  },
  {
   "cell_type": "code",
   "execution_count": null,
   "id": "18b6b6ca",
   "metadata": {},
   "outputs": [],
   "source": [
    "#Import scikit-learn metrics module for accuracy calculation\n",
    "from sklearn.metrics import confusion_matrix, accuracy_score"
   ]
  },
  {
   "cell_type": "code",
   "execution_count": null,
   "id": "bdfcd306",
   "metadata": {},
   "outputs": [],
   "source": [
    "# Model Accuracy: how often is the classifier correct?\n",
    "print(\"Accuracy:\",accuracy_score(y_test, y_pred))"
   ]
  },
  {
   "cell_type": "code",
   "execution_count": null,
   "id": "369fc64b",
   "metadata": {},
   "outputs": [],
   "source": [
    "confusion_matrix(y_test,y_pred)"
   ]
  },
  {
   "cell_type": "markdown",
   "id": "d7de77fa",
   "metadata": {},
   "source": [
    "## Apply SVC with Polynomial kernel"
   ]
  },
  {
   "cell_type": "code",
   "execution_count": null,
   "id": "3d2bbd58",
   "metadata": {},
   "outputs": [],
   "source": [
    "# Create a SVC classifier using a polynomial kernel\n",
    "svm_poly = SVC(kernel='poly')"
   ]
  },
  {
   "cell_type": "code",
   "execution_count": null,
   "id": "de3cf4f7",
   "metadata": {},
   "outputs": [],
   "source": [
    "#Train the model using the training sets\n",
    "svm_poly.fit(X_train, y_train)"
   ]
  },
  {
   "cell_type": "code",
   "execution_count": null,
   "id": "0534fe95",
   "metadata": {},
   "outputs": [],
   "source": [
    "#Predict the response for test dataset\n",
    "y_pred_poly = svm_poly.predict(X_test)"
   ]
  },
  {
   "cell_type": "code",
   "execution_count": null,
   "id": "11ba5920",
   "metadata": {},
   "outputs": [],
   "source": [
    "# Model Accuracy: how often is the classifier correct?\n",
    "print(\"Accuracy:\",accuracy_score(y_test, y_pred_poly))"
   ]
  },
  {
   "cell_type": "code",
   "execution_count": null,
   "id": "cb1ea6c8",
   "metadata": {},
   "outputs": [],
   "source": [
    "confusion_matrix(y_test,y_pred_poly)"
   ]
  },
  {
   "cell_type": "code",
   "execution_count": null,
   "id": "1c8c1163",
   "metadata": {},
   "outputs": [],
   "source": [
    "#Hyperparameter tuning for polynomial kernel \n",
    "parameters = {'C': [1,10,100],'degree': [2,4,5]}"
   ]
  },
  {
   "cell_type": "code",
   "execution_count": null,
   "id": "3f5ad305",
   "metadata": {},
   "outputs": [],
   "source": [
    "from sklearn.model_selection import GridSearchCV"
   ]
  },
  {
   "cell_type": "code",
   "execution_count": null,
   "id": "20e37611",
   "metadata": {},
   "outputs": [],
   "source": [
    "svm_poly_tune = GridSearchCV(svm_poly, parameters,cv=5)"
   ]
  },
  {
   "cell_type": "code",
   "execution_count": null,
   "id": "4874db8b",
   "metadata": {},
   "outputs": [],
   "source": [
    "svm_poly_tune.fit(X_train,y_train)"
   ]
  },
  {
   "cell_type": "code",
   "execution_count": null,
   "id": "6de59e76",
   "metadata": {},
   "outputs": [],
   "source": [
    "svm_poly_tune.best_params_"
   ]
  },
  {
   "cell_type": "code",
   "execution_count": null,
   "id": "ecd86e61",
   "metadata": {},
   "outputs": [],
   "source": [
    "svm_poly_tune.best_score_"
   ]
  },
  {
   "cell_type": "code",
   "execution_count": null,
   "id": "033703b2",
   "metadata": {},
   "outputs": [],
   "source": [
    "pred_poly_tune=svm_poly_tune.predict(X_test)"
   ]
  },
  {
   "cell_type": "code",
   "execution_count": null,
   "id": "b8004bb7",
   "metadata": {},
   "outputs": [],
   "source": [
    "confusion_matrix(y_test,pred_poly_tune)"
   ]
  },
  {
   "cell_type": "code",
   "execution_count": null,
   "id": "306c3f45",
   "metadata": {},
   "outputs": [],
   "source": [
    "accuracy_score(y_test,pred_poly_tune)"
   ]
  },
  {
   "cell_type": "markdown",
   "id": "774a740e",
   "metadata": {},
   "source": [
    "## Apply SVC with Radial kernel"
   ]
  },
  {
   "cell_type": "code",
   "execution_count": null,
   "id": "d4fc8313",
   "metadata": {},
   "outputs": [],
   "source": [
    "# Create a SVC classifier using a radial kernel\n",
    "svm_rbf = SVC(kernel='rbf')"
   ]
  },
  {
   "cell_type": "code",
   "execution_count": null,
   "id": "82cd4af8",
   "metadata": {},
   "outputs": [],
   "source": [
    "svm_rbf.fit(X_train,y_train)"
   ]
  },
  {
   "cell_type": "code",
   "execution_count": null,
   "id": "59f5174b",
   "metadata": {},
   "outputs": [],
   "source": [
    "svm_rbf.score(X_train,y_train)"
   ]
  },
  {
   "cell_type": "code",
   "execution_count": null,
   "id": "2764950f",
   "metadata": {},
   "outputs": [],
   "source": [
    "parameters = {'C': [1,10,100],'gamma': [0.0001,0.001,0.01,1,10,100]}"
   ]
  },
  {
   "cell_type": "code",
   "execution_count": null,
   "id": "3a1f2221",
   "metadata": {},
   "outputs": [],
   "source": [
    "svm_rbf_tune = GridSearchCV(svm_rbf, parameters,cv=5)"
   ]
  },
  {
   "cell_type": "code",
   "execution_count": null,
   "id": "429878eb",
   "metadata": {},
   "outputs": [],
   "source": [
    "svm_rbf_tune.fit(X_train,y_train)"
   ]
  },
  {
   "cell_type": "code",
   "execution_count": null,
   "id": "9e77bd59",
   "metadata": {},
   "outputs": [],
   "source": [
    "svm_rbf_tune.best_params_"
   ]
  },
  {
   "cell_type": "code",
   "execution_count": null,
   "id": "b667e40c",
   "metadata": {},
   "outputs": [],
   "source": [
    "svm_rbf_tune.best_score_"
   ]
  },
  {
   "cell_type": "code",
   "execution_count": null,
   "id": "5ccabc8c",
   "metadata": {},
   "outputs": [],
   "source": [
    "pred_rbf_tune=svm_rbf_tune.predict(X_test)"
   ]
  },
  {
   "cell_type": "code",
   "execution_count": null,
   "id": "5e574e6a",
   "metadata": {},
   "outputs": [],
   "source": [
    "confusion_matrix(y_test,pred_rbf_tune)"
   ]
  },
  {
   "cell_type": "code",
   "execution_count": null,
   "id": "ce6b80fc",
   "metadata": {},
   "outputs": [],
   "source": [
    "accuracy_score(y_test,pred_rbf_tune)"
   ]
  }
 ],
 "metadata": {
  "kernelspec": {
   "display_name": "Python 3 (ipykernel)",
   "language": "python",
   "name": "python3"
  },
  "language_info": {
   "codemirror_mode": {
    "name": "ipython",
    "version": 3
   },
   "file_extension": ".py",
   "mimetype": "text/x-python",
   "name": "python",
   "nbconvert_exporter": "python",
   "pygments_lexer": "ipython3",
   "version": "3.8.3"
  }
 },
 "nbformat": 4,
 "nbformat_minor": 5
}
